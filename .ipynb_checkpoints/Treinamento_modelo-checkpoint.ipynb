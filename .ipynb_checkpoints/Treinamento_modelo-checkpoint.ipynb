{
 "cells": [
  {
   "cell_type": "markdown",
   "metadata": {
    "id": "h8V8pawLVZGz"
   },
   "source": [
    "# Leitura dos dados"
   ]
  },
  {
   "cell_type": "code",
   "execution_count": 17,
   "metadata": {
    "id": "wxbUFSv1PZiD"
   },
   "outputs": [],
   "source": [
    "from json import dump as json_dump, load as json_load, dumps\n",
    "import os\n",
    "import requests\n",
    "import math\n",
    "from tqdm import tqdm, trange\n",
    "from time import sleep\n",
    "import pandas as pd\n",
    "from pandas import DataFrame as df\n",
    "import numpy as np\n",
    "import matplotlib.pyplot as plt\n",
    "import seaborn as sns # Biblioteca que permite plots mais robustos que o plt\n",
    "from scipy import stats\n"
   ]
  },
  {
   "cell_type": "code",
   "execution_count": 18,
   "metadata": {
    "colab": {
     "base_uri": "https://localhost:8080/"
    },
    "id": "A3NqT5X5Vcwh",
    "outputId": "3a233c80-0862-476b-d205-dccf43d1ef4f"
   },
   "outputs": [
    {
     "name": "stdout",
     "output_type": "stream",
     "text": [
      "  % Total    % Received % Xferd  Average Speed   Time    Time     Time  Current\n",
      "                                 Dload  Upload   Total   Spent    Left  Speed\n",
      "  0     0    0     0    0     0      0      0 --:--:-- --:--:-- --:--:--     0\n",
      "100 3970k  100 3970k    0     0  6804k      0 --:--:-- --:--:-- --:--:-- 27.2M\n"
     ]
    }
   ],
   "source": [
    "!curl -L -o dataset.csv https://github.com/bgvinicius/fortaleza-rents-dataset/raw/master/full_rents.csv"
   ]
  },
  {
   "cell_type": "code",
   "execution_count": 19,
   "metadata": {
    "colab": {
     "base_uri": "https://localhost:8080/",
     "height": 0
    },
    "id": "h7yJQC1tVeXx",
    "outputId": "e4fd179c-61de-43a9-bcd3-29d267bea6c4"
   },
   "outputs": [
    {
     "data": {
      "text/html": [
       "<div>\n",
       "<style scoped>\n",
       "    .dataframe tbody tr th:only-of-type {\n",
       "        vertical-align: middle;\n",
       "    }\n",
       "\n",
       "    .dataframe tbody tr th {\n",
       "        vertical-align: top;\n",
       "    }\n",
       "\n",
       "    .dataframe thead th {\n",
       "        text-align: right;\n",
       "    }\n",
       "</style>\n",
       "<table border=\"1\" class=\"dataframe\">\n",
       "  <thead>\n",
       "    <tr style=\"text-align: right;\">\n",
       "      <th></th>\n",
       "      <th>amenities</th>\n",
       "      <th>usableAreas</th>\n",
       "      <th>description</th>\n",
       "      <th>title</th>\n",
       "      <th>unitTypes</th>\n",
       "      <th>parkingSpaces</th>\n",
       "      <th>suites</th>\n",
       "      <th>bathrooms</th>\n",
       "      <th>usageTypes</th>\n",
       "      <th>bedrooms</th>\n",
       "      <th>neighborhood</th>\n",
       "      <th>lat</th>\n",
       "      <th>lon</th>\n",
       "      <th>condoFee</th>\n",
       "      <th>rentPrice</th>\n",
       "      <th>iptu</th>\n",
       "    </tr>\n",
       "  </thead>\n",
       "  <tbody>\n",
       "    <tr>\n",
       "      <th>0</th>\n",
       "      <td>['ELEVATOR', 'GATED_COMMUNITY', 'GARDEN', 'PLA...</td>\n",
       "      <td>70.0</td>\n",
       "      <td>IMÓVEL IMPECÁVEL! L I N D A V I S T A M A R! &lt;...</td>\n",
       "      <td>Apartamento para aluguel tem 70 metros quadrad...</td>\n",
       "      <td>APARTMENT</td>\n",
       "      <td>2.0</td>\n",
       "      <td>2.0</td>\n",
       "      <td>2.0</td>\n",
       "      <td>RESIDENTIAL</td>\n",
       "      <td>2.0</td>\n",
       "      <td>Meireles</td>\n",
       "      <td>-3.727880</td>\n",
       "      <td>-38.495875</td>\n",
       "      <td>730</td>\n",
       "      <td>2700</td>\n",
       "      <td>110</td>\n",
       "    </tr>\n",
       "    <tr>\n",
       "      <th>1</th>\n",
       "      <td>['FURNISHED', 'BARBECUE_GRILL', 'ELEVATOR', 'G...</td>\n",
       "      <td>60.0</td>\n",
       "      <td>Apartamento Duplex 60 m2, com 02 suítes, total...</td>\n",
       "      <td>Apartamento DUPLEX MOBILIADO, 02 suítes, em Me...</td>\n",
       "      <td>APARTMENT</td>\n",
       "      <td>1.0</td>\n",
       "      <td>2.0</td>\n",
       "      <td>2.0</td>\n",
       "      <td>RESIDENTIAL</td>\n",
       "      <td>2.0</td>\n",
       "      <td>Meireles</td>\n",
       "      <td>-3.727192</td>\n",
       "      <td>-38.490351</td>\n",
       "      <td>800</td>\n",
       "      <td>2500</td>\n",
       "      <td>200</td>\n",
       "    </tr>\n",
       "    <tr>\n",
       "      <th>2</th>\n",
       "      <td>['AIR_CONDITIONING', 'PORCELAIN']</td>\n",
       "      <td>35.0</td>\n",
       "      <td>ANDAR ALTO;&lt;br&gt;PISO EM PORCELANATO;&lt;br&gt;ILUMINA...</td>\n",
       "      <td>Sala comercial, localização INENARRÁVEL / para...</td>\n",
       "      <td>OFFICE</td>\n",
       "      <td>0.0</td>\n",
       "      <td>0.0</td>\n",
       "      <td>0.0</td>\n",
       "      <td>COMMERCIAL</td>\n",
       "      <td>0.0</td>\n",
       "      <td>Meireles</td>\n",
       "      <td>-3.736109</td>\n",
       "      <td>-38.490084</td>\n",
       "      <td>575</td>\n",
       "      <td>2500</td>\n",
       "      <td>330</td>\n",
       "    </tr>\n",
       "    <tr>\n",
       "      <th>3</th>\n",
       "      <td>[]</td>\n",
       "      <td>33.0</td>\n",
       "      <td>Salas com piso em porcelanato bianco, com forr...</td>\n",
       "      <td>Scopa Platinum Corporate - Salas amplas com WC</td>\n",
       "      <td>OFFICE</td>\n",
       "      <td>1.0</td>\n",
       "      <td>0.0</td>\n",
       "      <td>0.0</td>\n",
       "      <td>COMMERCIAL</td>\n",
       "      <td>0.0</td>\n",
       "      <td>Aldeota</td>\n",
       "      <td>-3.733264</td>\n",
       "      <td>-38.509330</td>\n",
       "      <td>428</td>\n",
       "      <td>1750</td>\n",
       "      <td>1143</td>\n",
       "    </tr>\n",
       "    <tr>\n",
       "      <th>4</th>\n",
       "      <td>[]</td>\n",
       "      <td>30.0</td>\n",
       "      <td>COMPSA – COMPARTILHAMENTO DE SALAS: &lt;br&gt;I. MOB...</td>\n",
       "      <td>COMPSA - Compartilhamento de Salas - Hora, Exp...</td>\n",
       "      <td>OFFICE</td>\n",
       "      <td>0.0</td>\n",
       "      <td>0.0</td>\n",
       "      <td>0.0</td>\n",
       "      <td>COMMERCIAL</td>\n",
       "      <td>0.0</td>\n",
       "      <td>Aldeota</td>\n",
       "      <td>-3.743591</td>\n",
       "      <td>-38.493051</td>\n",
       "      <td>0</td>\n",
       "      <td>500</td>\n",
       "      <td>0</td>\n",
       "    </tr>\n",
       "  </tbody>\n",
       "</table>\n",
       "</div>"
      ],
      "text/plain": [
       "                                           amenities  usableAreas  \\\n",
       "0  ['ELEVATOR', 'GATED_COMMUNITY', 'GARDEN', 'PLA...         70.0   \n",
       "1  ['FURNISHED', 'BARBECUE_GRILL', 'ELEVATOR', 'G...         60.0   \n",
       "2                  ['AIR_CONDITIONING', 'PORCELAIN']         35.0   \n",
       "3                                                 []         33.0   \n",
       "4                                                 []         30.0   \n",
       "\n",
       "                                         description  \\\n",
       "0  IMÓVEL IMPECÁVEL! L I N D A V I S T A M A R! <...   \n",
       "1  Apartamento Duplex 60 m2, com 02 suítes, total...   \n",
       "2  ANDAR ALTO;<br>PISO EM PORCELANATO;<br>ILUMINA...   \n",
       "3  Salas com piso em porcelanato bianco, com forr...   \n",
       "4  COMPSA – COMPARTILHAMENTO DE SALAS: <br>I. MOB...   \n",
       "\n",
       "                                               title  unitTypes  \\\n",
       "0  Apartamento para aluguel tem 70 metros quadrad...  APARTMENT   \n",
       "1  Apartamento DUPLEX MOBILIADO, 02 suítes, em Me...  APARTMENT   \n",
       "2  Sala comercial, localização INENARRÁVEL / para...     OFFICE   \n",
       "3     Scopa Platinum Corporate - Salas amplas com WC     OFFICE   \n",
       "4  COMPSA - Compartilhamento de Salas - Hora, Exp...     OFFICE   \n",
       "\n",
       "   parkingSpaces  suites  bathrooms   usageTypes  bedrooms neighborhood  \\\n",
       "0            2.0     2.0        2.0  RESIDENTIAL       2.0     Meireles   \n",
       "1            1.0     2.0        2.0  RESIDENTIAL       2.0     Meireles   \n",
       "2            0.0     0.0        0.0   COMMERCIAL       0.0     Meireles   \n",
       "3            1.0     0.0        0.0   COMMERCIAL       0.0      Aldeota   \n",
       "4            0.0     0.0        0.0   COMMERCIAL       0.0      Aldeota   \n",
       "\n",
       "        lat        lon  condoFee  rentPrice  iptu  \n",
       "0 -3.727880 -38.495875       730       2700   110  \n",
       "1 -3.727192 -38.490351       800       2500   200  \n",
       "2 -3.736109 -38.490084       575       2500   330  \n",
       "3 -3.733264 -38.509330       428       1750  1143  \n",
       "4 -3.743591 -38.493051         0        500     0  "
      ]
     },
     "execution_count": 19,
     "metadata": {},
     "output_type": "execute_result"
    }
   ],
   "source": [
    "df = pd.read_csv(\"dataset.csv\")\n",
    "df.drop(labels = [\"Unnamed: 0\"], axis = 1, inplace = True)\n",
    "df.head()"
   ]
  },
  {
   "cell_type": "code",
   "execution_count": 20,
   "metadata": {
    "colab": {
     "base_uri": "https://localhost:8080/",
     "height": 0
    },
    "id": "oP_6sV2PVqF7",
    "outputId": "d1153693-a1e7-4c24-df97-587120a89e8c"
   },
   "outputs": [
    {
     "data": {
      "text/html": [
       "<div>\n",
       "<style scoped>\n",
       "    .dataframe tbody tr th:only-of-type {\n",
       "        vertical-align: middle;\n",
       "    }\n",
       "\n",
       "    .dataframe tbody tr th {\n",
       "        vertical-align: top;\n",
       "    }\n",
       "\n",
       "    .dataframe thead th {\n",
       "        text-align: right;\n",
       "    }\n",
       "</style>\n",
       "<table border=\"1\" class=\"dataframe\">\n",
       "  <thead>\n",
       "    <tr style=\"text-align: right;\">\n",
       "      <th></th>\n",
       "      <th>usableAreas</th>\n",
       "      <th>parkingSpaces</th>\n",
       "      <th>suites</th>\n",
       "      <th>bathrooms</th>\n",
       "      <th>bedrooms</th>\n",
       "      <th>lat</th>\n",
       "      <th>lon</th>\n",
       "      <th>condoFee</th>\n",
       "      <th>rentPrice</th>\n",
       "      <th>iptu</th>\n",
       "    </tr>\n",
       "  </thead>\n",
       "  <tbody>\n",
       "    <tr>\n",
       "      <th>count</th>\n",
       "      <td>7492.000000</td>\n",
       "      <td>7492.000000</td>\n",
       "      <td>7492.000000</td>\n",
       "      <td>7492.000000</td>\n",
       "      <td>7492.000000</td>\n",
       "      <td>7492.000000</td>\n",
       "      <td>7492.000000</td>\n",
       "      <td>7.492000e+03</td>\n",
       "      <td>7492.000000</td>\n",
       "      <td>7492.000000</td>\n",
       "    </tr>\n",
       "    <tr>\n",
       "      <th>mean</th>\n",
       "      <td>302.293647</td>\n",
       "      <td>1.251468</td>\n",
       "      <td>0.506674</td>\n",
       "      <td>0.506674</td>\n",
       "      <td>1.310198</td>\n",
       "      <td>-3.744905</td>\n",
       "      <td>-38.519024</td>\n",
       "      <td>4.309800e+02</td>\n",
       "      <td>4145.321410</td>\n",
       "      <td>541.140416</td>\n",
       "    </tr>\n",
       "    <tr>\n",
       "      <th>std</th>\n",
       "      <td>1354.555366</td>\n",
       "      <td>10.053098</td>\n",
       "      <td>1.209950</td>\n",
       "      <td>1.209950</td>\n",
       "      <td>1.982876</td>\n",
       "      <td>0.027345</td>\n",
       "      <td>0.025670</td>\n",
       "      <td>1.560991e+04</td>\n",
       "      <td>17299.313716</td>\n",
       "      <td>10470.449313</td>\n",
       "    </tr>\n",
       "    <tr>\n",
       "      <th>min</th>\n",
       "      <td>0.000000</td>\n",
       "      <td>0.000000</td>\n",
       "      <td>0.000000</td>\n",
       "      <td>0.000000</td>\n",
       "      <td>0.000000</td>\n",
       "      <td>-3.902040</td>\n",
       "      <td>-38.630560</td>\n",
       "      <td>0.000000e+00</td>\n",
       "      <td>99.000000</td>\n",
       "      <td>0.000000</td>\n",
       "    </tr>\n",
       "    <tr>\n",
       "      <th>25%</th>\n",
       "      <td>37.000000</td>\n",
       "      <td>0.000000</td>\n",
       "      <td>0.000000</td>\n",
       "      <td>0.000000</td>\n",
       "      <td>0.000000</td>\n",
       "      <td>-3.747911</td>\n",
       "      <td>-38.525388</td>\n",
       "      <td>0.000000e+00</td>\n",
       "      <td>750.000000</td>\n",
       "      <td>0.000000</td>\n",
       "    </tr>\n",
       "    <tr>\n",
       "      <th>50%</th>\n",
       "      <td>63.000000</td>\n",
       "      <td>0.000000</td>\n",
       "      <td>0.000000</td>\n",
       "      <td>0.000000</td>\n",
       "      <td>1.000000</td>\n",
       "      <td>-3.730451</td>\n",
       "      <td>-38.521799</td>\n",
       "      <td>0.000000e+00</td>\n",
       "      <td>1300.000000</td>\n",
       "      <td>0.000000</td>\n",
       "    </tr>\n",
       "    <tr>\n",
       "      <th>75%</th>\n",
       "      <td>147.000000</td>\n",
       "      <td>1.000000</td>\n",
       "      <td>1.000000</td>\n",
       "      <td>1.000000</td>\n",
       "      <td>2.000000</td>\n",
       "      <td>-3.730451</td>\n",
       "      <td>-38.503734</td>\n",
       "      <td>3.200000e+02</td>\n",
       "      <td>3000.000000</td>\n",
       "      <td>70.250000</td>\n",
       "    </tr>\n",
       "    <tr>\n",
       "      <th>max</th>\n",
       "      <td>70526.000000</td>\n",
       "      <td>800.000000</td>\n",
       "      <td>42.000000</td>\n",
       "      <td>42.000000</td>\n",
       "      <td>70.000000</td>\n",
       "      <td>-3.703690</td>\n",
       "      <td>-38.389427</td>\n",
       "      <td>1.350000e+06</td>\n",
       "      <td>699000.000000</td>\n",
       "      <td>571362.000000</td>\n",
       "    </tr>\n",
       "  </tbody>\n",
       "</table>\n",
       "</div>"
      ],
      "text/plain": [
       "        usableAreas  parkingSpaces       suites    bathrooms     bedrooms  \\\n",
       "count   7492.000000    7492.000000  7492.000000  7492.000000  7492.000000   \n",
       "mean     302.293647       1.251468     0.506674     0.506674     1.310198   \n",
       "std     1354.555366      10.053098     1.209950     1.209950     1.982876   \n",
       "min        0.000000       0.000000     0.000000     0.000000     0.000000   \n",
       "25%       37.000000       0.000000     0.000000     0.000000     0.000000   \n",
       "50%       63.000000       0.000000     0.000000     0.000000     1.000000   \n",
       "75%      147.000000       1.000000     1.000000     1.000000     2.000000   \n",
       "max    70526.000000     800.000000    42.000000    42.000000    70.000000   \n",
       "\n",
       "               lat          lon      condoFee      rentPrice           iptu  \n",
       "count  7492.000000  7492.000000  7.492000e+03    7492.000000    7492.000000  \n",
       "mean     -3.744905   -38.519024  4.309800e+02    4145.321410     541.140416  \n",
       "std       0.027345     0.025670  1.560991e+04   17299.313716   10470.449313  \n",
       "min      -3.902040   -38.630560  0.000000e+00      99.000000       0.000000  \n",
       "25%      -3.747911   -38.525388  0.000000e+00     750.000000       0.000000  \n",
       "50%      -3.730451   -38.521799  0.000000e+00    1300.000000       0.000000  \n",
       "75%      -3.730451   -38.503734  3.200000e+02    3000.000000      70.250000  \n",
       "max      -3.703690   -38.389427  1.350000e+06  699000.000000  571362.000000  "
      ]
     },
     "execution_count": 20,
     "metadata": {},
     "output_type": "execute_result"
    }
   ],
   "source": [
    "df.describe()"
   ]
  },
  {
   "cell_type": "markdown",
   "metadata": {
    "id": "ivrvDRzZcBlF"
   },
   "source": [
    "# Removendo parte dos outliers dos dados"
   ]
  },
  {
   "cell_type": "markdown",
   "metadata": {
    "id": "O4_hLSaxVvhQ"
   },
   "source": [
    "Conforme observado na [análise exploratória dos dados](https://colab.research.google.com/drive/1O1QbzepzHHZdEs7J2MgnBtL3QpqoubFG#scrollTo=PFs74Ubq83Pz), o nosso dataset possui uma variação significativa dos dados após o percentil 75, por exemplo, observe o percentil 75 do atributo rentPrice, que está em R\\$ 3000, enquanto o valor máximo observado para este atributo é R\\$ 699000, muito além! Por essa razão, filtraremos os dados pela coluna rentPrice, considerando alugueis até R\\$ 6000, que é duas vezes o percentil 75 para este atributo."
   ]
  },
  {
   "cell_type": "code",
   "execution_count": 21,
   "metadata": {
    "id": "cWrYzrLyXkp9"
   },
   "outputs": [],
   "source": [
    "df = df[df['rentPrice'] <= 6000]"
   ]
  },
  {
   "cell_type": "code",
   "execution_count": 22,
   "metadata": {
    "colab": {
     "base_uri": "https://localhost:8080/",
     "height": 283
    },
    "id": "_sA2o_cNWPg_",
    "outputId": "7fd93f87-81f0-401d-85d0-b07c081d5d11"
   },
   "outputs": [
    {
     "data": {
      "text/plain": [
       "<AxesSubplot:>"
      ]
     },
     "execution_count": 22,
     "metadata": {},
     "output_type": "execute_result"
    },
    {
     "data": {
      "image/png": "[encoded data removed]",
      "text/plain": [
       "<Figure size 432x288 with 1 Axes>"
      ]
     },
     "metadata": {
      "needs_background": "light"
     },
     "output_type": "display_data"
    }
   ],
   "source": [
    "sns.boxplot(data=df['rentPrice'], orient=\"h\")"
   ]
  },
  {
   "cell_type": "markdown",
   "metadata": {
    "id": "i3wblp2mYcVN"
   },
   "source": [
    "Agora, os dados estão melhor 'distribuídos', não existem mais tantos outliers. "
   ]
  },
  {
   "cell_type": "code",
   "execution_count": 23,
   "metadata": {
    "colab": {
     "base_uri": "https://localhost:8080/",
     "height": 300
    },
    "id": "XIBz1xb0YhyU",
    "outputId": "c03a1467-e182-470e-a89d-c8426201e993"
   },
   "outputs": [
    {
     "data": {
      "text/html": [
       "<div>\n",
       "<style scoped>\n",
       "    .dataframe tbody tr th:only-of-type {\n",
       "        vertical-align: middle;\n",
       "    }\n",
       "\n",
       "    .dataframe tbody tr th {\n",
       "        vertical-align: top;\n",
       "    }\n",
       "\n",
       "    .dataframe thead th {\n",
       "        text-align: right;\n",
       "    }\n",
       "</style>\n",
       "<table border=\"1\" class=\"dataframe\">\n",
       "  <thead>\n",
       "    <tr style=\"text-align: right;\">\n",
       "      <th></th>\n",
       "      <th>usableAreas</th>\n",
       "      <th>parkingSpaces</th>\n",
       "      <th>suites</th>\n",
       "      <th>bathrooms</th>\n",
       "      <th>bedrooms</th>\n",
       "      <th>lat</th>\n",
       "      <th>lon</th>\n",
       "      <th>condoFee</th>\n",
       "      <th>rentPrice</th>\n",
       "      <th>iptu</th>\n",
       "    </tr>\n",
       "  </thead>\n",
       "  <tbody>\n",
       "    <tr>\n",
       "      <th>count</th>\n",
       "      <td>6592.000000</td>\n",
       "      <td>6592.000000</td>\n",
       "      <td>6592.000000</td>\n",
       "      <td>6592.000000</td>\n",
       "      <td>6592.000000</td>\n",
       "      <td>6592.000000</td>\n",
       "      <td>6592.000000</td>\n",
       "      <td>6592.000000</td>\n",
       "      <td>6592.000000</td>\n",
       "      <td>6592.000000</td>\n",
       "    </tr>\n",
       "    <tr>\n",
       "      <th>mean</th>\n",
       "      <td>128.619235</td>\n",
       "      <td>0.964502</td>\n",
       "      <td>0.492263</td>\n",
       "      <td>0.492263</td>\n",
       "      <td>1.303853</td>\n",
       "      <td>-3.744834</td>\n",
       "      <td>-38.519585</td>\n",
       "      <td>225.992870</td>\n",
       "      <td>1644.796875</td>\n",
       "      <td>246.062197</td>\n",
       "    </tr>\n",
       "    <tr>\n",
       "      <th>std</th>\n",
       "      <td>356.607658</td>\n",
       "      <td>10.054937</td>\n",
       "      <td>1.016896</td>\n",
       "      <td>1.016896</td>\n",
       "      <td>1.418947</td>\n",
       "      <td>0.027232</td>\n",
       "      <td>0.025726</td>\n",
       "      <td>462.150011</td>\n",
       "      <td>1353.188925</td>\n",
       "      <td>5713.716775</td>\n",
       "    </tr>\n",
       "    <tr>\n",
       "      <th>min</th>\n",
       "      <td>0.000000</td>\n",
       "      <td>0.000000</td>\n",
       "      <td>0.000000</td>\n",
       "      <td>0.000000</td>\n",
       "      <td>0.000000</td>\n",
       "      <td>-3.902040</td>\n",
       "      <td>-38.630560</td>\n",
       "      <td>0.000000</td>\n",
       "      <td>99.000000</td>\n",
       "      <td>0.000000</td>\n",
       "    </tr>\n",
       "    <tr>\n",
       "      <th>25%</th>\n",
       "      <td>35.000000</td>\n",
       "      <td>0.000000</td>\n",
       "      <td>0.000000</td>\n",
       "      <td>0.000000</td>\n",
       "      <td>0.000000</td>\n",
       "      <td>-3.747824</td>\n",
       "      <td>-38.525880</td>\n",
       "      <td>0.000000</td>\n",
       "      <td>700.000000</td>\n",
       "      <td>0.000000</td>\n",
       "    </tr>\n",
       "    <tr>\n",
       "      <th>50%</th>\n",
       "      <td>56.000000</td>\n",
       "      <td>0.000000</td>\n",
       "      <td>0.000000</td>\n",
       "      <td>0.000000</td>\n",
       "      <td>1.000000</td>\n",
       "      <td>-3.730451</td>\n",
       "      <td>-38.521799</td>\n",
       "      <td>0.000000</td>\n",
       "      <td>1100.000000</td>\n",
       "      <td>0.000000</td>\n",
       "    </tr>\n",
       "    <tr>\n",
       "      <th>75%</th>\n",
       "      <td>100.000000</td>\n",
       "      <td>1.000000</td>\n",
       "      <td>1.000000</td>\n",
       "      <td>1.000000</td>\n",
       "      <td>2.000000</td>\n",
       "      <td>-3.730451</td>\n",
       "      <td>-38.504929</td>\n",
       "      <td>350.000000</td>\n",
       "      <td>2100.000000</td>\n",
       "      <td>70.000000</td>\n",
       "    </tr>\n",
       "    <tr>\n",
       "      <th>max</th>\n",
       "      <td>12352.000000</td>\n",
       "      <td>800.000000</td>\n",
       "      <td>36.000000</td>\n",
       "      <td>36.000000</td>\n",
       "      <td>17.000000</td>\n",
       "      <td>-3.704008</td>\n",
       "      <td>-38.389427</td>\n",
       "      <td>12434.000000</td>\n",
       "      <td>6000.000000</td>\n",
       "      <td>326275.000000</td>\n",
       "    </tr>\n",
       "  </tbody>\n",
       "</table>\n",
       "</div>"
      ],
      "text/plain": [
       "        usableAreas  parkingSpaces       suites    bathrooms     bedrooms  \\\n",
       "count   6592.000000    6592.000000  6592.000000  6592.000000  6592.000000   \n",
       "mean     128.619235       0.964502     0.492263     0.492263     1.303853   \n",
       "std      356.607658      10.054937     1.016896     1.016896     1.418947   \n",
       "min        0.000000       0.000000     0.000000     0.000000     0.000000   \n",
       "25%       35.000000       0.000000     0.000000     0.000000     0.000000   \n",
       "50%       56.000000       0.000000     0.000000     0.000000     1.000000   \n",
       "75%      100.000000       1.000000     1.000000     1.000000     2.000000   \n",
       "max    12352.000000     800.000000    36.000000    36.000000    17.000000   \n",
       "\n",
       "               lat          lon      condoFee    rentPrice           iptu  \n",
       "count  6592.000000  6592.000000   6592.000000  6592.000000    6592.000000  \n",
       "mean     -3.744834   -38.519585    225.992870  1644.796875     246.062197  \n",
       "std       0.027232     0.025726    462.150011  1353.188925    5713.716775  \n",
       "min      -3.902040   -38.630560      0.000000    99.000000       0.000000  \n",
       "25%      -3.747824   -38.525880      0.000000   700.000000       0.000000  \n",
       "50%      -3.730451   -38.521799      0.000000  1100.000000       0.000000  \n",
       "75%      -3.730451   -38.504929    350.000000  2100.000000      70.000000  \n",
       "max      -3.704008   -38.389427  12434.000000  6000.000000  326275.000000  "
      ]
     },
     "execution_count": 23,
     "metadata": {},
     "output_type": "execute_result"
    }
   ],
   "source": [
    "df.describe()"
   ]
  },
  {
   "cell_type": "markdown",
   "metadata": {
    "id": "DIfPCz7VY31r"
   },
   "source": [
    "Entretanto, na coluna 'IPTU' e 'usableAreas' ainda temos valores bem fora da linha do percentil 75, portanto, limitaremos também os valores nesses atributos."
   ]
  },
  {
   "cell_type": "code",
   "execution_count": 24,
   "metadata": {
    "id": "c8xth2gGZCOE"
   },
   "outputs": [],
   "source": [
    "df = df[df[\"iptu\"] <= 1000]\n",
    "df = df[df[\"usableAreas\"] <= 1000]"
   ]
  },
  {
   "cell_type": "code",
   "execution_count": 25,
   "metadata": {
    "colab": {
     "base_uri": "https://localhost:8080/",
     "height": 300
    },
    "id": "nOkWcn-aZE3c",
    "outputId": "278878b1-c0fa-4ccb-e8ef-59bfd7f754c9"
   },
   "outputs": [
    {
     "data": {
      "text/html": [
       "<div>\n",
       "<style scoped>\n",
       "    .dataframe tbody tr th:only-of-type {\n",
       "        vertical-align: middle;\n",
       "    }\n",
       "\n",
       "    .dataframe tbody tr th {\n",
       "        vertical-align: top;\n",
       "    }\n",
       "\n",
       "    .dataframe thead th {\n",
       "        text-align: right;\n",
       "    }\n",
       "</style>\n",
       "<table border=\"1\" class=\"dataframe\">\n",
       "  <thead>\n",
       "    <tr style=\"text-align: right;\">\n",
       "      <th></th>\n",
       "      <th>usableAreas</th>\n",
       "      <th>parkingSpaces</th>\n",
       "      <th>suites</th>\n",
       "      <th>bathrooms</th>\n",
       "      <th>bedrooms</th>\n",
       "      <th>lat</th>\n",
       "      <th>lon</th>\n",
       "      <th>condoFee</th>\n",
       "      <th>rentPrice</th>\n",
       "      <th>iptu</th>\n",
       "    </tr>\n",
       "  </thead>\n",
       "  <tbody>\n",
       "    <tr>\n",
       "      <th>count</th>\n",
       "      <td>6258.000000</td>\n",
       "      <td>6258.000000</td>\n",
       "      <td>6258.000000</td>\n",
       "      <td>6258.000000</td>\n",
       "      <td>6258.000000</td>\n",
       "      <td>6258.000000</td>\n",
       "      <td>6258.000000</td>\n",
       "      <td>6258.000000</td>\n",
       "      <td>6258.000000</td>\n",
       "      <td>6258.000000</td>\n",
       "    </tr>\n",
       "    <tr>\n",
       "      <th>mean</th>\n",
       "      <td>92.632950</td>\n",
       "      <td>0.936401</td>\n",
       "      <td>0.482422</td>\n",
       "      <td>0.482422</td>\n",
       "      <td>1.299457</td>\n",
       "      <td>-3.744601</td>\n",
       "      <td>-38.519779</td>\n",
       "      <td>221.469958</td>\n",
       "      <td>1563.124161</td>\n",
       "      <td>61.581655</td>\n",
       "    </tr>\n",
       "    <tr>\n",
       "      <th>std</th>\n",
       "      <td>122.585994</td>\n",
       "      <td>10.295278</td>\n",
       "      <td>1.004431</td>\n",
       "      <td>1.004431</td>\n",
       "      <td>1.382256</td>\n",
       "      <td>0.026932</td>\n",
       "      <td>0.025752</td>\n",
       "      <td>453.014182</td>\n",
       "      <td>1291.253194</td>\n",
       "      <td>149.217492</td>\n",
       "    </tr>\n",
       "    <tr>\n",
       "      <th>min</th>\n",
       "      <td>0.000000</td>\n",
       "      <td>0.000000</td>\n",
       "      <td>0.000000</td>\n",
       "      <td>0.000000</td>\n",
       "      <td>0.000000</td>\n",
       "      <td>-3.902040</td>\n",
       "      <td>-38.630560</td>\n",
       "      <td>0.000000</td>\n",
       "      <td>99.000000</td>\n",
       "      <td>0.000000</td>\n",
       "    </tr>\n",
       "    <tr>\n",
       "      <th>25%</th>\n",
       "      <td>34.000000</td>\n",
       "      <td>0.000000</td>\n",
       "      <td>0.000000</td>\n",
       "      <td>0.000000</td>\n",
       "      <td>0.000000</td>\n",
       "      <td>-3.747672</td>\n",
       "      <td>-38.526109</td>\n",
       "      <td>0.000000</td>\n",
       "      <td>700.000000</td>\n",
       "      <td>0.000000</td>\n",
       "    </tr>\n",
       "    <tr>\n",
       "      <th>50%</th>\n",
       "      <td>54.000000</td>\n",
       "      <td>0.000000</td>\n",
       "      <td>0.000000</td>\n",
       "      <td>0.000000</td>\n",
       "      <td>1.000000</td>\n",
       "      <td>-3.730451</td>\n",
       "      <td>-38.521799</td>\n",
       "      <td>0.000000</td>\n",
       "      <td>1050.000000</td>\n",
       "      <td>0.000000</td>\n",
       "    </tr>\n",
       "    <tr>\n",
       "      <th>75%</th>\n",
       "      <td>90.000000</td>\n",
       "      <td>1.000000</td>\n",
       "      <td>1.000000</td>\n",
       "      <td>1.000000</td>\n",
       "      <td>2.000000</td>\n",
       "      <td>-3.730451</td>\n",
       "      <td>-38.505369</td>\n",
       "      <td>350.000000</td>\n",
       "      <td>2000.000000</td>\n",
       "      <td>61.000000</td>\n",
       "    </tr>\n",
       "    <tr>\n",
       "      <th>max</th>\n",
       "      <td>1000.000000</td>\n",
       "      <td>800.000000</td>\n",
       "      <td>36.000000</td>\n",
       "      <td>36.000000</td>\n",
       "      <td>17.000000</td>\n",
       "      <td>-3.704008</td>\n",
       "      <td>-38.389427</td>\n",
       "      <td>12434.000000</td>\n",
       "      <td>6000.000000</td>\n",
       "      <td>1000.000000</td>\n",
       "    </tr>\n",
       "  </tbody>\n",
       "</table>\n",
       "</div>"
      ],
      "text/plain": [
       "       usableAreas  parkingSpaces       suites    bathrooms     bedrooms  \\\n",
       "count  6258.000000    6258.000000  6258.000000  6258.000000  6258.000000   \n",
       "mean     92.632950       0.936401     0.482422     0.482422     1.299457   \n",
       "std     122.585994      10.295278     1.004431     1.004431     1.382256   \n",
       "min       0.000000       0.000000     0.000000     0.000000     0.000000   \n",
       "25%      34.000000       0.000000     0.000000     0.000000     0.000000   \n",
       "50%      54.000000       0.000000     0.000000     0.000000     1.000000   \n",
       "75%      90.000000       1.000000     1.000000     1.000000     2.000000   \n",
       "max    1000.000000     800.000000    36.000000    36.000000    17.000000   \n",
       "\n",
       "               lat          lon      condoFee    rentPrice         iptu  \n",
       "count  6258.000000  6258.000000   6258.000000  6258.000000  6258.000000  \n",
       "mean     -3.744601   -38.519779    221.469958  1563.124161    61.581655  \n",
       "std       0.026932     0.025752    453.014182  1291.253194   149.217492  \n",
       "min      -3.902040   -38.630560      0.000000    99.000000     0.000000  \n",
       "25%      -3.747672   -38.526109      0.000000   700.000000     0.000000  \n",
       "50%      -3.730451   -38.521799      0.000000  1050.000000     0.000000  \n",
       "75%      -3.730451   -38.505369    350.000000  2000.000000    61.000000  \n",
       "max      -3.704008   -38.389427  12434.000000  6000.000000  1000.000000  "
      ]
     },
     "execution_count": 25,
     "metadata": {},
     "output_type": "execute_result"
    }
   ],
   "source": [
    "df.describe()"
   ]
  },
  {
   "cell_type": "markdown",
   "metadata": {
    "id": "yUWZ_fJoH3C7"
   },
   "source": [
    "Aqui, não vamos utilizar as colunas title e description no treinamento do nosso modelo, por serem apenas colunas descrevendo uma instância específica do dataset, portanto, removemos essas colunas."
   ]
  },
  {
   "cell_type": "code",
   "execution_count": 26,
   "metadata": {
    "id": "alHBTt1mIN9o"
   },
   "outputs": [],
   "source": [
    "df = df.drop(columns = ['description', 'title'])"
   ]
  },
  {
   "cell_type": "markdown",
   "metadata": {
    "id": "oyppH82kHtVX"
   },
   "source": [
    "# Transformação dos dados para treinamento\n",
    "\n",
    "Os modelos em geral trabalham bem com números, mas temos algumas colunas que ainda não estão em formato apropriado\n",
    "\n",
    "- amenities, uma lista de strings\n",
    "- unitTypes, string\n",
    "- usageTypes, string\n",
    "- neighborhood, string\n",
    "\n",
    "A coluna de amenities, iremos tratar diretamente usando o pandas, já a coluna unitTypes, usageTypes e neighborhood iremos usar o **One Hot Encoder** do pandas, comumente usado para transformar atributos categóricos em números. Para cada valor possível da nossa coluna categórica, será criada uma coluna nova para cada valor possível do atributo original, de modo que cada linha do conjunto de dados terá valor 1 apenas na coluna que seja correspondente ao valor do atributo no dado original, e 0 nas demais colunas.\n",
    "\n",
    "<img src='https://e6v4p8w2.rocketcdn.me/wp-content/uploads/2022/01/One-Hot-Encoding-for-Scikit-Learn-in-Python-Explained-1536x864.png'> "
   ]
  },
  {
   "cell_type": "code",
   "execution_count": 27,
   "metadata": {
    "colab": {
     "base_uri": "https://localhost:8080/",
     "height": 175
    },
    "id": "5D7bhr_HKOb4",
    "outputId": "cc273e90-a142-40e2-b243-13f5469ab771"
   },
   "outputs": [
    {
     "data": {
      "text/html": [
       "<div>\n",
       "<style scoped>\n",
       "    .dataframe tbody tr th:only-of-type {\n",
       "        vertical-align: middle;\n",
       "    }\n",
       "\n",
       "    .dataframe tbody tr th {\n",
       "        vertical-align: top;\n",
       "    }\n",
       "\n",
       "    .dataframe thead th {\n",
       "        text-align: right;\n",
       "    }\n",
       "</style>\n",
       "<table border=\"1\" class=\"dataframe\">\n",
       "  <thead>\n",
       "    <tr style=\"text-align: right;\">\n",
       "      <th></th>\n",
       "      <th>amenities</th>\n",
       "      <th>unitTypes</th>\n",
       "      <th>usageTypes</th>\n",
       "      <th>neighborhood</th>\n",
       "    </tr>\n",
       "  </thead>\n",
       "  <tbody>\n",
       "    <tr>\n",
       "      <th>count</th>\n",
       "      <td>6258</td>\n",
       "      <td>6258</td>\n",
       "      <td>6258</td>\n",
       "      <td>6257</td>\n",
       "    </tr>\n",
       "    <tr>\n",
       "      <th>unique</th>\n",
       "      <td>1378</td>\n",
       "      <td>17</td>\n",
       "      <td>2</td>\n",
       "      <td>129</td>\n",
       "    </tr>\n",
       "    <tr>\n",
       "      <th>top</th>\n",
       "      <td>[]</td>\n",
       "      <td>APARTMENT</td>\n",
       "      <td>RESIDENTIAL</td>\n",
       "      <td>Centro</td>\n",
       "    </tr>\n",
       "    <tr>\n",
       "      <th>freq</th>\n",
       "      <td>3204</td>\n",
       "      <td>2526</td>\n",
       "      <td>3557</td>\n",
       "      <td>979</td>\n",
       "    </tr>\n",
       "  </tbody>\n",
       "</table>\n",
       "</div>"
      ],
      "text/plain": [
       "       amenities  unitTypes   usageTypes neighborhood\n",
       "count       6258       6258         6258         6257\n",
       "unique      1378         17            2          129\n",
       "top           []  APARTMENT  RESIDENTIAL       Centro\n",
       "freq        3204       2526         3557          979"
      ]
     },
     "execution_count": 27,
     "metadata": {},
     "output_type": "execute_result"
    }
   ],
   "source": [
    "df.describe(include=['O'])"
   ]
  },
  {
   "cell_type": "code",
   "execution_count": 28,
   "metadata": {
    "id": "veDqN8ouLD_r"
   },
   "outputs": [],
   "source": [
    "from ast import literal_eval\n",
    "\n",
    "df['amenities'] = df['amenities'].apply(literal_eval)"
   ]
  },
  {
   "cell_type": "code",
   "execution_count": 29,
   "metadata": {
    "colab": {
     "base_uri": "https://localhost:8080/"
    },
    "id": "iMyWOWbZLb3V",
    "outputId": "bc4ba4dd-1b09-4748-b9c1-8cb0a1cea433"
   },
   "outputs": [
    {
     "data": {
      "text/plain": [
       "count       13513\n",
       "unique        156\n",
       "top       KITCHEN\n",
       "freq         1531\n",
       "Name: amenities, dtype: object"
      ]
     },
     "execution_count": 29,
     "metadata": {},
     "output_type": "execute_result"
    }
   ],
   "source": [
    "df['amenities'].explode().describe()"
   ]
  },
  {
   "cell_type": "code",
   "execution_count": 30,
   "metadata": {
    "id": "pagclwHSMTl2"
   },
   "outputs": [],
   "source": [
    "df_amenities_expanded = df.join(df['amenities'].str.join('|').str.get_dummies().add_prefix('amenities_')\n",
    ").drop(columns=['amenities'])"
   ]
  },
  {
   "cell_type": "code",
   "execution_count": 31,
   "metadata": {
    "colab": {
     "base_uri": "https://localhost:8080/",
     "height": 522
    },
    "id": "OHWYbZHeQEQ5",
    "outputId": "464785e5-458a-4948-cf1c-15d55ef5480a"
   },
   "outputs": [
    {
     "data": {
      "text/html": [
       "<div>\n",
       "<style scoped>\n",
       "    .dataframe tbody tr th:only-of-type {\n",
       "        vertical-align: middle;\n",
       "    }\n",
       "\n",
       "    .dataframe tbody tr th {\n",
       "        vertical-align: top;\n",
       "    }\n",
       "\n",
       "    .dataframe thead th {\n",
       "        text-align: right;\n",
       "    }\n",
       "</style>\n",
       "<table border=\"1\" class=\"dataframe\">\n",
       "  <thead>\n",
       "    <tr style=\"text-align: right;\">\n",
       "      <th></th>\n",
       "      <th>usableAreas</th>\n",
       "      <th>unitTypes</th>\n",
       "      <th>parkingSpaces</th>\n",
       "      <th>suites</th>\n",
       "      <th>bathrooms</th>\n",
       "      <th>usageTypes</th>\n",
       "      <th>bedrooms</th>\n",
       "      <th>neighborhood</th>\n",
       "      <th>lat</th>\n",
       "      <th>lon</th>\n",
       "      <th>...</th>\n",
       "      <th>amenities_TREE_CLIMBING</th>\n",
       "      <th>amenities_TRUCK_ENTRANCE</th>\n",
       "      <th>amenities_VEGETABLE_GARDEN</th>\n",
       "      <th>amenities_WALLS_GRIDS</th>\n",
       "      <th>amenities_WALL_BALCONY</th>\n",
       "      <th>amenities_WATCHMAN</th>\n",
       "      <th>amenities_WELL</th>\n",
       "      <th>amenities_WHIRLPOOL</th>\n",
       "      <th>amenities_YOUTH_GAME_ROOM</th>\n",
       "      <th>amenities_ZEN_SPACE</th>\n",
       "    </tr>\n",
       "  </thead>\n",
       "  <tbody>\n",
       "    <tr>\n",
       "      <th>0</th>\n",
       "      <td>70.0</td>\n",
       "      <td>APARTMENT</td>\n",
       "      <td>2.0</td>\n",
       "      <td>2.0</td>\n",
       "      <td>2.0</td>\n",
       "      <td>RESIDENTIAL</td>\n",
       "      <td>2.0</td>\n",
       "      <td>Meireles</td>\n",
       "      <td>-3.727880</td>\n",
       "      <td>-38.495875</td>\n",
       "      <td>...</td>\n",
       "      <td>0</td>\n",
       "      <td>0</td>\n",
       "      <td>0</td>\n",
       "      <td>0</td>\n",
       "      <td>0</td>\n",
       "      <td>0</td>\n",
       "      <td>0</td>\n",
       "      <td>0</td>\n",
       "      <td>0</td>\n",
       "      <td>0</td>\n",
       "    </tr>\n",
       "    <tr>\n",
       "      <th>1</th>\n",
       "      <td>60.0</td>\n",
       "      <td>APARTMENT</td>\n",
       "      <td>1.0</td>\n",
       "      <td>2.0</td>\n",
       "      <td>2.0</td>\n",
       "      <td>RESIDENTIAL</td>\n",
       "      <td>2.0</td>\n",
       "      <td>Meireles</td>\n",
       "      <td>-3.727192</td>\n",
       "      <td>-38.490351</td>\n",
       "      <td>...</td>\n",
       "      <td>0</td>\n",
       "      <td>0</td>\n",
       "      <td>0</td>\n",
       "      <td>0</td>\n",
       "      <td>0</td>\n",
       "      <td>0</td>\n",
       "      <td>0</td>\n",
       "      <td>0</td>\n",
       "      <td>0</td>\n",
       "      <td>0</td>\n",
       "    </tr>\n",
       "    <tr>\n",
       "      <th>2</th>\n",
       "      <td>35.0</td>\n",
       "      <td>OFFICE</td>\n",
       "      <td>0.0</td>\n",
       "      <td>0.0</td>\n",
       "      <td>0.0</td>\n",
       "      <td>COMMERCIAL</td>\n",
       "      <td>0.0</td>\n",
       "      <td>Meireles</td>\n",
       "      <td>-3.736109</td>\n",
       "      <td>-38.490084</td>\n",
       "      <td>...</td>\n",
       "      <td>0</td>\n",
       "      <td>0</td>\n",
       "      <td>0</td>\n",
       "      <td>0</td>\n",
       "      <td>0</td>\n",
       "      <td>0</td>\n",
       "      <td>0</td>\n",
       "      <td>0</td>\n",
       "      <td>0</td>\n",
       "      <td>0</td>\n",
       "    </tr>\n",
       "    <tr>\n",
       "      <th>4</th>\n",
       "      <td>30.0</td>\n",
       "      <td>OFFICE</td>\n",
       "      <td>0.0</td>\n",
       "      <td>0.0</td>\n",
       "      <td>0.0</td>\n",
       "      <td>COMMERCIAL</td>\n",
       "      <td>0.0</td>\n",
       "      <td>Aldeota</td>\n",
       "      <td>-3.743591</td>\n",
       "      <td>-38.493051</td>\n",
       "      <td>...</td>\n",
       "      <td>0</td>\n",
       "      <td>0</td>\n",
       "      <td>0</td>\n",
       "      <td>0</td>\n",
       "      <td>0</td>\n",
       "      <td>0</td>\n",
       "      <td>0</td>\n",
       "      <td>0</td>\n",
       "      <td>0</td>\n",
       "      <td>0</td>\n",
       "    </tr>\n",
       "    <tr>\n",
       "      <th>5</th>\n",
       "      <td>15.0</td>\n",
       "      <td>OFFICE</td>\n",
       "      <td>0.0</td>\n",
       "      <td>0.0</td>\n",
       "      <td>0.0</td>\n",
       "      <td>COMMERCIAL</td>\n",
       "      <td>0.0</td>\n",
       "      <td>José Bonifácio</td>\n",
       "      <td>-3.743001</td>\n",
       "      <td>-38.528323</td>\n",
       "      <td>...</td>\n",
       "      <td>0</td>\n",
       "      <td>0</td>\n",
       "      <td>0</td>\n",
       "      <td>0</td>\n",
       "      <td>0</td>\n",
       "      <td>0</td>\n",
       "      <td>0</td>\n",
       "      <td>0</td>\n",
       "      <td>0</td>\n",
       "      <td>0</td>\n",
       "    </tr>\n",
       "    <tr>\n",
       "      <th>...</th>\n",
       "      <td>...</td>\n",
       "      <td>...</td>\n",
       "      <td>...</td>\n",
       "      <td>...</td>\n",
       "      <td>...</td>\n",
       "      <td>...</td>\n",
       "      <td>...</td>\n",
       "      <td>...</td>\n",
       "      <td>...</td>\n",
       "      <td>...</td>\n",
       "      <td>...</td>\n",
       "      <td>...</td>\n",
       "      <td>...</td>\n",
       "      <td>...</td>\n",
       "      <td>...</td>\n",
       "      <td>...</td>\n",
       "      <td>...</td>\n",
       "      <td>...</td>\n",
       "      <td>...</td>\n",
       "      <td>...</td>\n",
       "      <td>...</td>\n",
       "    </tr>\n",
       "    <tr>\n",
       "      <th>7486</th>\n",
       "      <td>15.0</td>\n",
       "      <td>OFFICE</td>\n",
       "      <td>0.0</td>\n",
       "      <td>0.0</td>\n",
       "      <td>0.0</td>\n",
       "      <td>COMMERCIAL</td>\n",
       "      <td>0.0</td>\n",
       "      <td>Mondubim</td>\n",
       "      <td>-3.730451</td>\n",
       "      <td>-38.521799</td>\n",
       "      <td>...</td>\n",
       "      <td>0</td>\n",
       "      <td>0</td>\n",
       "      <td>0</td>\n",
       "      <td>0</td>\n",
       "      <td>0</td>\n",
       "      <td>0</td>\n",
       "      <td>0</td>\n",
       "      <td>0</td>\n",
       "      <td>0</td>\n",
       "      <td>0</td>\n",
       "    </tr>\n",
       "    <tr>\n",
       "      <th>7487</th>\n",
       "      <td>594.0</td>\n",
       "      <td>HOME</td>\n",
       "      <td>12.0</td>\n",
       "      <td>2.0</td>\n",
       "      <td>2.0</td>\n",
       "      <td>RESIDENTIAL</td>\n",
       "      <td>5.0</td>\n",
       "      <td>Vila Velha</td>\n",
       "      <td>-3.722138</td>\n",
       "      <td>-38.595065</td>\n",
       "      <td>...</td>\n",
       "      <td>0</td>\n",
       "      <td>0</td>\n",
       "      <td>0</td>\n",
       "      <td>0</td>\n",
       "      <td>0</td>\n",
       "      <td>0</td>\n",
       "      <td>0</td>\n",
       "      <td>0</td>\n",
       "      <td>0</td>\n",
       "      <td>0</td>\n",
       "    </tr>\n",
       "    <tr>\n",
       "      <th>7488</th>\n",
       "      <td>297.0</td>\n",
       "      <td>BUSINESS</td>\n",
       "      <td>0.0</td>\n",
       "      <td>0.0</td>\n",
       "      <td>0.0</td>\n",
       "      <td>COMMERCIAL</td>\n",
       "      <td>0.0</td>\n",
       "      <td>Parque Santa Maria</td>\n",
       "      <td>-3.730451</td>\n",
       "      <td>-38.521799</td>\n",
       "      <td>...</td>\n",
       "      <td>0</td>\n",
       "      <td>0</td>\n",
       "      <td>0</td>\n",
       "      <td>0</td>\n",
       "      <td>0</td>\n",
       "      <td>0</td>\n",
       "      <td>0</td>\n",
       "      <td>0</td>\n",
       "      <td>0</td>\n",
       "      <td>0</td>\n",
       "    </tr>\n",
       "    <tr>\n",
       "      <th>7490</th>\n",
       "      <td>54.0</td>\n",
       "      <td>APARTMENT</td>\n",
       "      <td>2.0</td>\n",
       "      <td>1.0</td>\n",
       "      <td>1.0</td>\n",
       "      <td>RESIDENTIAL</td>\n",
       "      <td>2.0</td>\n",
       "      <td>Planalto Ayrton Senna</td>\n",
       "      <td>-3.833893</td>\n",
       "      <td>-38.567802</td>\n",
       "      <td>...</td>\n",
       "      <td>0</td>\n",
       "      <td>0</td>\n",
       "      <td>0</td>\n",
       "      <td>0</td>\n",
       "      <td>0</td>\n",
       "      <td>0</td>\n",
       "      <td>0</td>\n",
       "      <td>0</td>\n",
       "      <td>0</td>\n",
       "      <td>0</td>\n",
       "    </tr>\n",
       "    <tr>\n",
       "      <th>7491</th>\n",
       "      <td>68.0</td>\n",
       "      <td>APARTMENT</td>\n",
       "      <td>2.0</td>\n",
       "      <td>1.0</td>\n",
       "      <td>1.0</td>\n",
       "      <td>RESIDENTIAL</td>\n",
       "      <td>2.0</td>\n",
       "      <td>Meireles</td>\n",
       "      <td>-3.725501</td>\n",
       "      <td>-38.500486</td>\n",
       "      <td>...</td>\n",
       "      <td>0</td>\n",
       "      <td>0</td>\n",
       "      <td>0</td>\n",
       "      <td>0</td>\n",
       "      <td>0</td>\n",
       "      <td>0</td>\n",
       "      <td>0</td>\n",
       "      <td>0</td>\n",
       "      <td>0</td>\n",
       "      <td>0</td>\n",
       "    </tr>\n",
       "  </tbody>\n",
       "</table>\n",
       "<p>6258 rows × 169 columns</p>\n",
       "</div>"
      ],
      "text/plain": [
       "      usableAreas  unitTypes  parkingSpaces  suites  bathrooms   usageTypes  \\\n",
       "0            70.0  APARTMENT            2.0     2.0        2.0  RESIDENTIAL   \n",
       "1            60.0  APARTMENT            1.0     2.0        2.0  RESIDENTIAL   \n",
       "2            35.0     OFFICE            0.0     0.0        0.0   COMMERCIAL   \n",
       "4            30.0     OFFICE            0.0     0.0        0.0   COMMERCIAL   \n",
       "5            15.0     OFFICE            0.0     0.0        0.0   COMMERCIAL   \n",
       "...           ...        ...            ...     ...        ...          ...   \n",
       "7486         15.0     OFFICE            0.0     0.0        0.0   COMMERCIAL   \n",
       "7487        594.0       HOME           12.0     2.0        2.0  RESIDENTIAL   \n",
       "7488        297.0   BUSINESS            0.0     0.0        0.0   COMMERCIAL   \n",
       "7490         54.0  APARTMENT            2.0     1.0        1.0  RESIDENTIAL   \n",
       "7491         68.0  APARTMENT            2.0     1.0        1.0  RESIDENTIAL   \n",
       "\n",
       "      bedrooms           neighborhood       lat        lon  ...  \\\n",
       "0          2.0               Meireles -3.727880 -38.495875  ...   \n",
       "1          2.0               Meireles -3.727192 -38.490351  ...   \n",
       "2          0.0               Meireles -3.736109 -38.490084  ...   \n",
       "4          0.0                Aldeota -3.743591 -38.493051  ...   \n",
       "5          0.0         José Bonifácio -3.743001 -38.528323  ...   \n",
       "...        ...                    ...       ...        ...  ...   \n",
       "7486       0.0               Mondubim -3.730451 -38.521799  ...   \n",
       "7487       5.0             Vila Velha -3.722138 -38.595065  ...   \n",
       "7488       0.0     Parque Santa Maria -3.730451 -38.521799  ...   \n",
       "7490       2.0  Planalto Ayrton Senna -3.833893 -38.567802  ...   \n",
       "7491       2.0               Meireles -3.725501 -38.500486  ...   \n",
       "\n",
       "      amenities_TREE_CLIMBING  amenities_TRUCK_ENTRANCE  \\\n",
       "0                           0                         0   \n",
       "1                           0                         0   \n",
       "2                           0                         0   \n",
       "4                           0                         0   \n",
       "5                           0                         0   \n",
       "...                       ...                       ...   \n",
       "7486                        0                         0   \n",
       "7487                        0                         0   \n",
       "7488                        0                         0   \n",
       "7490                        0                         0   \n",
       "7491                        0                         0   \n",
       "\n",
       "      amenities_VEGETABLE_GARDEN  amenities_WALLS_GRIDS  \\\n",
       "0                              0                      0   \n",
       "1                              0                      0   \n",
       "2                              0                      0   \n",
       "4                              0                      0   \n",
       "5                              0                      0   \n",
       "...                          ...                    ...   \n",
       "7486                           0                      0   \n",
       "7487                           0                      0   \n",
       "7488                           0                      0   \n",
       "7490                           0                      0   \n",
       "7491                           0                      0   \n",
       "\n",
       "      amenities_WALL_BALCONY  amenities_WATCHMAN  amenities_WELL  \\\n",
       "0                          0                   0               0   \n",
       "1                          0                   0               0   \n",
       "2                          0                   0               0   \n",
       "4                          0                   0               0   \n",
       "5                          0                   0               0   \n",
       "...                      ...                 ...             ...   \n",
       "7486                       0                   0               0   \n",
       "7487                       0                   0               0   \n",
       "7488                       0                   0               0   \n",
       "7490                       0                   0               0   \n",
       "7491                       0                   0               0   \n",
       "\n",
       "      amenities_WHIRLPOOL  amenities_YOUTH_GAME_ROOM  amenities_ZEN_SPACE  \n",
       "0                       0                          0                    0  \n",
       "1                       0                          0                    0  \n",
       "2                       0                          0                    0  \n",
       "4                       0                          0                    0  \n",
       "5                       0                          0                    0  \n",
       "...                   ...                        ...                  ...  \n",
       "7486                    0                          0                    0  \n",
       "7487                    0                          0                    0  \n",
       "7488                    0                          0                    0  \n",
       "7490                    0                          0                    0  \n",
       "7491                    0                          0                    0  \n",
       "\n",
       "[6258 rows x 169 columns]"
      ]
     },
     "execution_count": 31,
     "metadata": {},
     "output_type": "execute_result"
    }
   ],
   "source": [
    "df_amenities_expanded"
   ]
  },
  {
   "cell_type": "markdown",
   "metadata": {
    "id": "VoOvzfs9TgZH"
   },
   "source": [
    "# Treinamento dos modelos"
   ]
  },
  {
   "cell_type": "code",
   "execution_count": 32,
   "metadata": {
    "id": "mm9qzYdRZcv5"
   },
   "outputs": [],
   "source": [
    "from sklearn.pipeline import Pipeline\n",
    "from sklearn.preprocessing import OneHotEncoder\n",
    "\n",
    "from sklearn.preprocessing import RobustScaler\n",
    "from sklearn.preprocessing import Normalizer\n",
    "from sklearn.preprocessing import MinMaxScaler\n",
    "from sklearn.preprocessing import PolynomialFeatures\n",
    "\n",
    "from sklearn.compose import ColumnTransformer\n",
    "from sklearn.linear_model import LinearRegression\n",
    "from sklearn.linear_model import Ridge\n",
    "from sklearn.linear_model import RANSACRegressor\n",
    "\n",
    "from sklearn.model_selection import train_test_split\n",
    "from sklearn.neighbors import KNeighborsRegressor\n",
    "from sklearn.tree import DecisionTreeRegressor\n",
    "from sklearn.ensemble import RandomForestRegressor\n",
    "\n",
    "from sklearn.svm import SVR\n",
    "from sklearn.model_selection import KFold\n",
    "from sklearn.model_selection import GridSearchCV"
   ]
  },
  {
   "cell_type": "markdown",
   "metadata": {
    "id": "z2XNOTCJUo1o"
   },
   "source": [
    "Separação dos dados entre treino e teste, para geração e avaliação do modelo, usamos apenas os dados relativos a casas para moradia, deixando de lado os imóveis comerciais. \n",
    "\n"
   ]
  },
  {
   "cell_type": "code",
   "execution_count": 33,
   "metadata": {
    "id": "IBn_cYifU9Lo"
   },
   "outputs": [],
   "source": [
    "training_df = df_amenities_expanded[df_amenities_expanded['usageTypes'] == 'RESIDENTIAL']"
   ]
  },
  {
   "cell_type": "code",
   "execution_count": 34,
   "metadata": {
    "id": "bqHeqTDJbfbB"
   },
   "outputs": [],
   "source": [
    "X_train, X_test, y_train, y_test = train_test_split(training_df.drop(columns=['rentPrice', 'lat', 'lon']), training_df['rentPrice'])"
   ]
  },
  {
   "cell_type": "markdown",
   "metadata": {
    "id": "BNIZyIAJVpS5"
   },
   "source": [
    "Abaixo, montamos nossos pipelines de pre processamentos. Usamos KFold com 3 folds (como não temos muitos dados, usamos apeans 3 folds), além de uma grid search para otimização dos hiper parametros de cada modelo."
   ]
  },
  {
   "cell_type": "code",
   "execution_count": 35,
   "metadata": {
    "id": "AoudCsqKFOEB"
   },
   "outputs": [],
   "source": [
    "def get_scaled_pipeline():\n",
    "  numeric_pipeline = Pipeline([('scale', RobustScaler())])\n",
    "  label_pipeline = Pipeline([('encode', OneHotEncoder(handle_unknown='ignore'))])\n",
    "\n",
    "  return ColumnTransformer([\n",
    "    # ('label_transformer', label_pipeline, ['unitTypes', 'usageTypes']),\n",
    "    ('label_transformer', label_pipeline, ['unitTypes', 'usageTypes', 'neighborhood']),\n",
    "    ('numeric_transformer', numeric_pipeline, ['usableAreas', 'parkingSpaces', 'bathrooms', 'bedrooms', 'condoFee', 'iptu'])\n",
    "  ], remainder='passthrough')\n",
    "\n",
    "def get_default_pipeline():\n",
    "  label_pipeline = Pipeline([('encode', OneHotEncoder(handle_unknown='ignore'))])\n",
    "\n",
    "  return ColumnTransformer([\n",
    "    ('label_transformer', label_pipeline, ['unitTypes', 'usageTypes', 'neighborhood'])\n",
    "    # ('label_transformer', label_pipeline, ['unitTypes', 'usageTypes'])\n",
    "  ], remainder='passthrough')\n",
    "\n",
    "\n",
    "def train_linear_regression(X_train, y_train):\n",
    "  kfold_cv = KFold(n_splits=3, shuffle=True, random_state=42)\n",
    "\n",
    "  model = Pipeline([\n",
    "    ('transform', get_scaled_pipeline()),\n",
    "    ('model', LinearRegression())\n",
    "  ])\n",
    "\n",
    "  grid = GridSearchCV(scoring='neg_root_mean_squared_error', estimator=model, param_grid = {}, cv=kfold_cv)\n",
    "  grid.fit(X_train, y_train)\n",
    "  return grid\n",
    "\n",
    "\n",
    "def train_knn(X_train, y_train):\n",
    "  kfold_cv = KFold(n_splits=3, shuffle=True, random_state=42)\n",
    "\n",
    "  knn_hiperparameters = {\n",
    "    'model__n_neighbors': range(5, 51, 5), \n",
    "    'model__weights': ['uniform', 'distance'], \n",
    "    'model__metric': [\"euclidean\", \"manhattan\", \"chebyshev\"]\n",
    "  }\n",
    "\n",
    "  model = Pipeline([\n",
    "    ('transform', get_default_pipeline()),\n",
    "    ('model', KNeighborsRegressor())\n",
    "  ])\n",
    "\n",
    "  grid = GridSearchCV(scoring='neg_root_mean_squared_error', estimator=model, param_grid = knn_hiperparameters, cv=kfold_cv)\n",
    "  grid.fit(X_train, y_train)\n",
    "  return grid\n",
    "\n",
    "def train_decision_tree(X_train, y_train):\n",
    "  dt_hiperparameters = {\n",
    "    'model__criterion': ['squared_error', 'absolute_error', 'poisson'],\n",
    "    'model__splitter': ['best', 'random']\n",
    "  }\n",
    "\n",
    "  kfold_cv = KFold(n_splits=3, shuffle=True, random_state=42)\n",
    "\n",
    "  model = Pipeline([\n",
    "    ('transform', get_default_pipeline()),\n",
    "    ('model', DecisionTreeRegressor())\n",
    "  ])\n",
    "\n",
    "  grid = GridSearchCV(scoring='neg_root_mean_squared_error', estimator=model, param_grid = dt_hiperparameters, cv=kfold_cv)\n",
    "  grid.fit(X_train, y_train)\n",
    "  return grid\n",
    "\n",
    "\n",
    "def train_random_forest(X_train, y_train):\n",
    "  rf_hiperparameters = {\n",
    "    'model__criterion': ['absolute_error'],\n",
    "    'model__n_estimators': [100],\n",
    "    'model__max_features': ['sqrt', 0.25, 1.0, 0.5],\n",
    "    'model__max_depth': [None]\n",
    "  }\n",
    "  kfold_cv = KFold(n_splits=3, shuffle=True, random_state=42)\n",
    "\n",
    "  model = Pipeline([\n",
    "    ('transform', get_default_pipeline()),\n",
    "    ('model', RandomForestRegressor(n_jobs = 6))\n",
    "  ])\n",
    "\n",
    "  grid = GridSearchCV(scoring='neg_root_mean_squared_error', estimator=model, param_grid = rf_hiperparameters, cv=kfold_cv, verbose=1)\n",
    "  grid.fit(X_train, y_train)\n",
    "  return grid\n",
    "\n",
    "def train_svr(X_train, y_train):\n",
    "  kfold_cv = KFold(n_splits=3, shuffle=True, random_state=42)\n",
    "  svr_hiperparameters = {\n",
    "    'model__kernel': ['rbf'], \n",
    "    'model__gamma': ['scale'], \n",
    "    'model__C': [3000, 4000, 4500, 5000],\n",
    "    'model__epsilon': [0.1, 0.75]\n",
    "  }\n",
    "\n",
    "  model = Pipeline([\n",
    "    ('transform', get_scaled_pipeline()),\n",
    "    ('model', SVR())\n",
    "  ])\n",
    "\n",
    "  grid = GridSearchCV(scoring='neg_root_mean_squared_error', estimator=model, param_grid = svr_hiperparameters, cv=kfold_cv)\n",
    "  grid.fit(X_train, y_train)\n",
    "  return grid\n",
    "\n",
    "def get_grid_results(grid):\n",
    "  return pd.DataFrame(grid.cv_results_).sort_values(by=f\"rank_test_score\", ascending=True)\n"
   ]
  },
  {
   "cell_type": "markdown",
   "metadata": {
    "id": "WFVdDnwoWAsK"
   },
   "source": [
    "Abaixo, faremos o treino de cada modelo, obtendo os hiperparametros ideais e realizando um novo fit utilizando estes hiperparametros obtidos."
   ]
  },
  {
   "cell_type": "code",
   "execution_count": 36,
   "metadata": {
    "id": "s6NuIqH3Rph-"
   },
   "outputs": [],
   "source": [
    "linear_reg_grid = train_linear_regression(X_train, y_train)"
   ]
  },
  {
   "cell_type": "code",
   "execution_count": 37,
   "metadata": {
    "id": "VKI5D5lr0v97"
   },
   "outputs": [],
   "source": [
    "knn_grid = train_knn(X_train, y_train)"
   ]
  },
  {
   "cell_type": "code",
   "execution_count": 38,
   "metadata": {
    "id": "2YaHFhiD0u3z"
   },
   "outputs": [],
   "source": [
    "decision_tree_grid = train_decision_tree(X_train, y_train)"
   ]
  },
  {
   "cell_type": "code",
   "execution_count": 39,
   "metadata": {
    "id": "VYkKfBq6NFty"
   },
   "outputs": [],
   "source": [
    "svr_grid = train_svr(X_train, y_train)"
   ]
  },
  {
   "cell_type": "code",
   "execution_count": null,
   "metadata": {
    "id": "xsbVC2K9Stqy"
   },
   "outputs": [
    {
     "name": "stdout",
     "output_type": "stream",
     "text": [
      "Fitting 3 folds for each of 4 candidates, totalling 12 fits\n"
     ]
    }
   ],
   "source": [
    "random_forest_grid = train_random_forest(X_train, y_train)"
   ]
  },
  {
   "cell_type": "code",
   "execution_count": null,
   "metadata": {
    "id": "Q-zzhgTTNMIi"
   },
   "outputs": [],
   "source": [
    "get_grid_results(linear_reg_grid)"
   ]
  },
  {
   "cell_type": "code",
   "execution_count": null,
   "metadata": {
    "id": "avw3VH3Z8WyL"
   },
   "outputs": [],
   "source": [
    "get_grid_results(knn_grid)"
   ]
  },
  {
   "cell_type": "code",
   "execution_count": null,
   "metadata": {
    "id": "LS9rTrJTgMeC"
   },
   "outputs": [],
   "source": [
    "get_grid_results(decision_tree_grid)"
   ]
  },
  {
   "cell_type": "code",
   "execution_count": null,
   "metadata": {
    "id": "F54p4mYaPKzf"
   },
   "outputs": [],
   "source": [
    "get_grid_results(random_forest_grid)"
   ]
  },
  {
   "cell_type": "code",
   "execution_count": null,
   "metadata": {
    "id": "5y457BHkk8IH"
   },
   "outputs": [],
   "source": [
    "get_grid_results(svr_grid)"
   ]
  },
  {
   "cell_type": "markdown",
   "metadata": {
    "id": "2ttNSjgbWPbb"
   },
   "source": [
    "# Avaliação dos modelos\n",
    "\n",
    "Por fim, avaliaremos os modelos. Na gridsearch, utilizamos como métrica o RMSE, pois para o nosso problema, o ideal é que os erros sejam os menores possíveis, e que também não existam muitos erros extremos, algo que é coberto pela RMSE.\n",
    "\n",
    "Para avaliação dos modelos, consideramos as seguintes métricas:\n",
    "\n",
    "- RMSE\n",
    "- MAE\n",
    "- R2\n",
    "- MSE"
   ]
  },
  {
   "cell_type": "code",
   "execution_count": null,
   "metadata": {
    "id": "8F6Zx3Sfxj8u"
   },
   "outputs": [],
   "source": [
    "models = {\n",
    "    \"linear_regression\": linear_reg_grid,\n",
    "    \"knn\": knn_grid,\n",
    "    \"decision_tree\": decision_tree_grid,\n",
    "    \"svr\": svr_grid,\n",
    "    \"random_forest\": random_forest_grid\n",
    "}"
   ]
  },
  {
   "cell_type": "code",
   "execution_count": null,
   "metadata": {
    "id": "vXujSwMctYh2"
   },
   "outputs": [],
   "source": [
    "from sklearn.metrics import mean_absolute_error\n",
    "from sklearn.metrics import mean_squared_error\n",
    "from sklearn.metrics import r2_score\n",
    "\n",
    "def rmse(actual, predicted):\n",
    "  return mean_squared_error(actual, predicted, squared=False)\n"
   ]
  },
  {
   "cell_type": "code",
   "execution_count": null,
   "metadata": {
    "id": "UqPJ4J5txd-l"
   },
   "outputs": [],
   "source": [
    "def compute_errors(X_test, y_test, models, error_metric_fn):\n",
    "  return { model_name: error_metric_fn(y_test, model.predict(X_test)) for model_name, model in models.items() }\n",
    "\n",
    "def plot_error_by_model(X_test, y_test, models, error_metric_fn, max_range, use_max=False):\n",
    "  errors = compute_errors(X_test, y_test, models, error_metric_fn)\n",
    "  X_values = list(errors.keys())\n",
    "  rounder = max if use_max else min\n",
    "  Y_values = list(map(lambda l: rounder(max_range, l), errors.values()))\n",
    "\n",
    "  sns.barplot(x=X_values, y=Y_values)"
   ]
  },
  {
   "cell_type": "code",
   "execution_count": null,
   "metadata": {
    "id": "K_Gs2_woLFTS"
   },
   "outputs": [],
   "source": [
    "f = plt.figure(figsize=(20, 14))\n",
    "gs = f.add_gridspec(2, 2)\n",
    "\n",
    "\n",
    "f.add_subplot(gs[0, 0])\n",
    "\n",
    "plot_error_by_model(X_test, y_test, models, mean_absolute_error, 2000)\n",
    "plt.title(\"MAE\")\n",
    "plt.ylabel('Scores')\n",
    "\n",
    "f.add_subplot(gs[0, 1])\n",
    "\n",
    "plot_error_by_model(X_test, y_test, models, rmse, 2000)\n",
    "plt.title(\"RMSE\")\n",
    "plt.ylabel('Scores')\n",
    "\n",
    "f.add_subplot(gs[1, 0])\n",
    "\n",
    "plot_error_by_model(X_test, y_test, models, r2_score, 0, use_max=True)\n",
    "plt.title(\"R2\")\n",
    "plt.ylabel('Scores')\n",
    "\n",
    "f.add_subplot(gs[1, 1])\n",
    "\n",
    "plot_error_by_model(X_test, y_test, models, mean_squared_error, 10 ** 6)\n",
    "plt.title(\"MSE\")\n",
    "_ = plt.ylabel('Scores')\n",
    "\n"
   ]
  },
  {
   "cell_type": "markdown",
   "metadata": {
    "id": "CY8jWoBFXPsn"
   },
   "source": [
    "Como podemos ver, o modelo utilizando RandomForest foi o melhor em todas as métricas! "
   ]
  },
  {
   "cell_type": "code",
   "execution_count": null,
   "metadata": {
    "id": "8CNTbwtG6bb0"
   },
   "outputs": [],
   "source": [
    "y_pred = random_forest_grid.predict(X_test)\n",
    "\n",
    "plot_data = pd.DataFrame([(predict, \"Valor Predito\") for predict in y_pred] + [(real_value, \"Valor Real\") for real_value in y_test], columns=[\"aluguel (R$)\", \"\"])\n",
    "\n",
    "plt.figure(figsize=(8, 14))\n",
    "plt.title('Distribuição dos valores preditos e dos valores reais', fontsize=18)\n",
    "sns.boxplot(x=\"\", y=\"aluguel (R$)\", data=plot_data, palette='RdBu_r');"
   ]
  },
  {
   "cell_type": "code",
   "execution_count": null,
   "metadata": {
    "id": "MyvZzwz8YK8L"
   },
   "outputs": [],
   "source": [
    "print(f\"MAE do SVR: {mean_absolute_error(y_test, svr_grid.predict(X_test))}\" )\n",
    "print(f\"RMSE da SVR: {rmse(y_test, svr_grid.predict(X_test))}\" )"
   ]
  },
  {
   "cell_type": "code",
   "execution_count": null,
   "metadata": {
    "id": "-jyDu-6pXnp9"
   },
   "outputs": [],
   "source": [
    "print(f\"MAE da RandomForest: {mean_absolute_error(y_test, random_forest_grid.predict(X_test))}\" )\n",
    "print(f\"RMSE da RandomForest: {rmse(y_test, random_forest_grid.predict(X_test))}\" )"
   ]
  },
  {
   "cell_type": "markdown",
   "metadata": {
    "id": "8TS4WxgCXjt2"
   },
   "source": [
    "Algumas conclusões:\n",
    "\n",
    "- Para uma primeira iteração, o algoritmo RandomForest foi muito interessante, além do SVR, pois ambos estão bem próximos em termos de precisão\n",
    "- Pode ser interessante experimentar alterando mais parâmetros da RandomForest, possivelmente encontrando combinações ainda melhores\n",
    "- Mesmo limpando parte dos outliers, o dataset ainda tem alguns problemas relativos a qualidade dos dados. Isso pode ser melhorado, o que pode levar a novos modelos ainda melhores!\n",
    "- O dataset possui dados de diferentes bairros, além de que os imóveis podem ser casas e apartamentos. O balanceamento desses dados deve ser levado em consideração na hora de realizar a separação dos dados para treino/teste/validação (folds). "
   ]
  }
 ],
 "metadata": {
  "accelerator": "GPU",
  "colab": {
   "collapsed_sections": [],
   "name": "Treinamento modelo.ipynb",
   "provenance": []
  },
  "gpuClass": "standard",
  "kernelspec": {
   "display_name": "Python 3 (ipykernel)",
   "language": "python",
   "name": "python3"
  },
  "language_info": {
   "codemirror_mode": {
    "name": "ipython",
    "version": 3
   },
   "file_extension": ".py",
   "mimetype": "text/x-python",
   "name": "python",
   "nbconvert_exporter": "python",
   "pygments_lexer": "ipython3",
   "version": "3.10.4"
  }
 },
 "nbformat": 4,
 "nbformat_minor": 1
}
